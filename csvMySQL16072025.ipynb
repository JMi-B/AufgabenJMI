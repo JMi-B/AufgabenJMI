{
 "cells": [
  {
   "cell_type": "code",
   "execution_count": 2,
   "id": "8e6d2d83-3ace-465d-ba60-9f98b770e58a",
   "metadata": {},
   "outputs": [
    {
     "name": "stdout",
     "output_type": "stream",
     "text": [
      "        Vorname   Nachname    PLZ                   Ort\n",
      "0          Anna     Müller  29599                 Weste\n",
      "1          Anna    Schmidt  89358             Kammeltal\n",
      "2          Anna  Schneider  19417                 Bibow\n",
      "3          Anna    Fischer  67693             Fischbach\n",
      "4          Anna      Weber  69242            Mühlhausen\n",
      "...         ...        ...    ...                   ...\n",
      "2495  Zacharias      Linke  53508              Mayschoß\n",
      "2496  Zacharias      Fuchs  25799                 Wrohm\n",
      "2497  Zacharias     Möller  73312             Deggingen\n",
      "2498  Zacharias       Paul  65343     Eltville am Rhein\n",
      "2499  Zacharias       Horn  98587  Steinbach-Hallenberg\n",
      "\n",
      "[2500 rows x 4 columns]\n"
     ]
    }
   ],
   "source": [
    "#Einlesen und Anzeigen mit Relativem Pfad\n",
    "\n",
    "import pandas as pd\n",
    "\n",
    "df_Kunden = pd.read_csv(\"../data-prozess-20250714/Daten und Prozessanalyse/csv/Kunden.csv\", dtype={'PLZ':str} )\n",
    "\n",
    "print(df_Kunden)"
   ]
  },
  {
   "cell_type": "code",
   "execution_count": null,
   "id": "24b5885b-011d-4f1e-a4c1-be1584509fa4",
   "metadata": {
    "editable": true,
    "slideshow": {
     "slide_type": ""
    },
    "tags": []
   },
   "outputs": [],
   "source": []
  }
 ],
 "metadata": {
  "kernelspec": {
   "display_name": "Python [conda env:base] *",
   "language": "python",
   "name": "conda-base-py"
  },
  "language_info": {
   "codemirror_mode": {
    "name": "ipython",
    "version": 3
   },
   "file_extension": ".py",
   "mimetype": "text/x-python",
   "name": "python",
   "nbconvert_exporter": "python",
   "pygments_lexer": "ipython3",
   "version": "3.12.7"
  }
 },
 "nbformat": 4,
 "nbformat_minor": 5
}
