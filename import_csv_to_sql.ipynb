{
 "cells": [
  {
   "cell_type": "code",
   "execution_count": 4,
   "id": "04bf2f10-3e33-475a-8241-8e68a253cae9",
   "metadata": {},
   "outputs": [
    {
     "name": "stdout",
     "output_type": "stream",
     "text": [
      "Import erfolgreich.\n"
     ]
    }
   ],
   "source": [
    "import pandas as pd\n",
    "from sqlalchemy import create_engine\n",
    "from dotenv import load_dotenv\n",
    "import os\n",
    "\n",
    "# .env laden\n",
    "load_dotenv(dotenv_path=\"env.env\")\n",
    "\n",
    "user = os.getenv(\"DB_USER\")\n",
    "password = os.getenv(\"DB_PASS\")\n",
    "host = os.getenv(\"DB_HOST\")\n",
    "port = os.getenv(\"DB_PORT\")\n",
    "database = os.getenv(\"DB_NAME\")\n",
    "\n",
    "# Verbindung aufbauen\n",
    "engine = create_engine(\n",
    "    f\"mysql+mysqlconnector://{user}:{password}@{host}:{port}/{database}\"\n",
    ")\n",
    "\n",
    "# CSV einlesen\n",
    "df = pd.read_csv(\"kunden.csv\")\n",
    "\n",
    "# In MySQL schreiben (Tabelle wird automatisch erstellt)\n",
    "df.to_sql(\"kunden\", con=engine, if_exists=\"replace\", index=False)\n",
    "\n",
    "print(\"Import erfolgreich.\")\n"
   ]
  },
  {
   "cell_type": "code",
   "execution_count": null,
   "id": "ea1fa1ec-f8d6-4339-affc-c7d09bcb3122",
   "metadata": {},
   "outputs": [],
   "source": []
  }
 ],
 "metadata": {
  "kernelspec": {
   "display_name": "Python 3 (ipykernel)",
   "language": "python",
   "name": "python3"
  },
  "language_info": {
   "codemirror_mode": {
    "name": "ipython",
    "version": 3
   },
   "file_extension": ".py",
   "mimetype": "text/x-python",
   "name": "python",
   "nbconvert_exporter": "python",
   "pygments_lexer": "ipython3",
   "version": "3.12.7"
  }
 },
 "nbformat": 4,
 "nbformat_minor": 5
}
