{
 "cells": [
  {
   "cell_type": "code",
   "execution_count": 1,
   "id": "2cd3356e-9369-4c42-b520-abd95c3f7a36",
   "metadata": {},
   "outputs": [
    {
     "name": "stdout",
     "output_type": "stream",
     "text": [
      "12854\n",
      "2500\n",
      "2500\n"
     ]
    }
   ],
   "source": [
    "#Stufe 4 – Fortgeschrittene Aufgaben\n",
    "\n",
    "# Vorbereitung übernahme aus Aufgaben davor\n",
    "# Kundenanalyse Stuffe 2\n",
    "# Einfache Verknüpfung\n",
    "# 4 **Lade beide CSV-Dateien ein.**  \n",
    "\n",
    "import pandas as pd\n",
    "df_Kunden = pd.read_csv(\"../csv/Kunden.csv\", dtype={\"PLZ\" : str})\n",
    "df_Zuordnung = pd.read_csv(\"../csv/zuordnung_plz_ort.csv\", dtype={\"plz\" :str})\n",
    "\n",
    "# 5. **Führe beide Tabellen über `PLZ` zusammen.**  \n",
    "# merge\n",
    "\n",
    "merged = pd.merge(\n",
    "    df_Kunden,\n",
    "    df_Zuordnung.drop_duplicates(subset=\"plz\"),\n",
    "    how=\"left\",\n",
    "    left_on=\"PLZ\",\n",
    "    right_on=\"plz\"\n",
    ")\n",
    "\n",
    "print(len(df_Zuordnung))\n",
    "print(len(df_Kunden))\n",
    "print(len(merged))"
   ]
  },
  {
   "cell_type": "code",
   "execution_count": 3,
   "id": "e37dd919-f68a-4fdf-a0c8-7030c8ef2ea6",
   "metadata": {},
   "outputs": [
    {
     "name": "stdout",
     "output_type": "stream",
     "text": [
      "Index(['Vorname', 'Nachname', 'PLZ', 'Ort', 'osm_id', 'ags', 'ort', 'plz',\n",
      "       'landkreis', 'bundesland'],\n",
      "      dtype='object')\n",
      "['Vorname', 'Nachname', 'PLZ', 'Ort', 'osm_id', 'ags', 'ort', 'plz', 'landkreis', 'bundesland']\n"
     ]
    }
   ],
   "source": [
    "print(merged.columns)\n",
    "print(list(merged.columns))"
   ]
  },
  {
   "cell_type": "code",
   "execution_count": 5,
   "id": "30f1c8ef-96f3-45f4-ad52-a0c054d62cf9",
   "metadata": {},
   "outputs": [
    {
     "name": "stdout",
     "output_type": "stream",
     "text": [
      "                        anzahl_kunden  anzahl_orte haeufigste_plz\n",
      "bundesland                                                       \n",
      "Baden-Württemberg                 261          217          71254\n",
      "Bayern                            442          375          82024\n",
      "Berlin                             37            1          10249\n",
      "Brandenburg                        64           60          15306\n",
      "Bremen                              9            2          28359\n",
      "Hamburg                            15            1          22115\n",
      "Hessen                             98           75          61440\n",
      "Mecklenburg-Vorpommern            163          142          17209\n",
      "Niedersachsen                     188          163          21423\n",
      "Nordrhein-Westfalen               173          101          32469\n",
      "Rheinland-Pfalz                   445          397          54518\n",
      "Saarland                           11            8          66640\n",
      "Sachsen-Anhalt                     34           29          39291\n",
      "Schleswig-Holstein                253          213          23847\n",
      "Thüringen                          86           74          37318\n"
     ]
    }
   ],
   "source": [
    "# 12. **Erzeuge einen Report mit:**  \n",
    "#    - Bundesland  \n",
    "#   - Anzahl Kunden  \n",
    "#   - Anzahl Orte  \n",
    "#   - Häufigste PLZ je Bundesland\n",
    "\n",
    "# 12. Report je Bundesland\n",
    "report = merged.groupby(\"bundesland\").agg(\n",
    "    anzahl_kunden=(\"Vorname\", \"count\"),\n",
    "    anzahl_orte=(\"Ort\", \"nunique\"),\n",
    "    haeufigste_plz=(\"PLZ\", lambda x: x.mode().iloc[0] if not x.mode().empty else None)\n",
    ")\n",
    "print(report)\n"
   ]
  },
  {
   "cell_type": "code",
   "execution_count": 6,
   "id": "b8ccd7f0-65aa-4279-8583-5dca0ed3c8d3",
   "metadata": {},
   "outputs": [
    {
     "name": "stdout",
     "output_type": "stream",
     "text": [
      "Anzahl eindeutiger Orte insgesamt: 2012\n",
      "Anzahl eindeutiger Orte ohne Bundesland: 174\n"
     ]
    }
   ],
   "source": [
    "# Anzahl aller eindeutigen Orte im gesamten DataFrame\n",
    "anzahl_orte_gesamt = merged[\"Ort\"].nunique()\n",
    "print(\"Anzahl eindeutiger Orte insgesamt:\", anzahl_orte_gesamt)\n",
    "\n",
    "# Anzahl Datensätze ohne Bundesland\n",
    "anzahl_ohne_bundesland = merged[merged[\"bundesland\"].isna()][\"Ort\"].nunique()\n",
    "print(\"Anzahl eindeutiger Orte ohne Bundesland:\", anzahl_ohne_bundesland)"
   ]
  },
  {
   "cell_type": "code",
   "execution_count": 7,
   "id": "e54d2038-12eb-4908-b53e-fac9fd11731e",
   "metadata": {},
   "outputs": [],
   "source": [
    "# der Report greift nicht auf alle Daten zu weil es Kunden ohne Bundesland gibt\n"
   ]
  },
  {
   "cell_type": "code",
   "execution_count": null,
   "id": "7422598b-d370-4283-9949-8b58bd4c68d3",
   "metadata": {},
   "outputs": [],
   "source": [
    "# 13. **Exportiere Kunden gruppiert nach Bundesland als JSON-Datei.**  \n",
    "#    Format:  \n",
    "#   ```json\n",
    "#    {\n",
    "#     \"Berlin\": [ {…}, {…} ],\n",
    "#     \"NRW\": [ {…} ]\n",
    "#   }\n",
    "import json\n",
    "\n",
    "# 13. JSON-Export Grupierung nach Bundesland und Ditionary\n",
    "kunden_json = df.groupby(\"bundesland\").apply(lambda d: d.to_dict(orient=\"records\")).to_dict()\n",
    "\n",
    "# Als Datei speichern (optional)\n",
    "\n",
    "with open(\"kunden_nach_bundesland.json\", \"w\") as f:\n",
    "    json.dump(kunden_json, f, indent=2)\n"
   ]
  }
 ],
 "metadata": {
  "kernelspec": {
   "display_name": "Python 3 (ipykernel)",
   "language": "python",
   "name": "python3"
  },
  "language_info": {
   "codemirror_mode": {
    "name": "ipython",
    "version": 3
   },
   "file_extension": ".py",
   "mimetype": "text/x-python",
   "name": "python",
   "nbconvert_exporter": "python",
   "pygments_lexer": "ipython3",
   "version": "3.12.7"
  }
 },
 "nbformat": 4,
 "nbformat_minor": 5
}
