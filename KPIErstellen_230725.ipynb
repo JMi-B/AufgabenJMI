{
 "cells": [
  {
   "cell_type": "code",
   "execution_count": 1,
   "id": "5c2eb80d-529f-4bb4-9c1b-d48720d3df63",
   "metadata": {},
   "outputs": [
    {
     "name": "stdout",
     "output_type": "stream",
     "text": [
      "   Prozess_ID              Mitarbeitername    Abteilung Anfragedatum  \\\n",
      "0     PRC0001           Aleksandr Weinhage  Buchhaltung   2025-06-05   \n",
      "1     PRC0002  Dr. Christof Weihmann B.Sc.           HR   2025-06-18   \n",
      "2     PRC0003              Klemens Löffler    Marketing   2025-05-24   \n",
      "3     PRC0004               Bayram Harloff     Vertrieb   2025-06-03   \n",
      "4     PRC0005         Karl-Jürgen Gumprich     Vertrieb   2025-06-18   \n",
      "..        ...                          ...          ...          ...   \n",
      "95    PRC0096      Rüdiger Misicher B.Eng.  Buchhaltung   2025-06-06   \n",
      "96    PRC0097    Dr. Aleksander Speer B.A.  Buchhaltung   2025-06-11   \n",
      "97    PRC0098                Erna Bohnbach    Marketing   2025-06-05   \n",
      "98    PRC0099             Manuela Pergande           IT   2025-06-11   \n",
      "99    PRC0100                    Vera Baum           IT   2025-05-28   \n",
      "\n",
      "    Startdatum Genehmigungsdatum Bestelldatum Lieferdatum Uebergabedatum  \\\n",
      "0   2025-06-12        2025-06-08   2025-06-09  2025-06-11     2025-06-13   \n",
      "1   2025-06-29        2025-06-21   2025-06-22  2025-06-27     2025-06-30   \n",
      "2   2025-06-02        2025-05-24   2025-05-26  2025-05-29     2025-06-05   \n",
      "3   2025-06-13        2025-06-05   2025-06-06  2025-06-09            NaN   \n",
      "4   2025-06-29        2025-06-21   2025-06-23  2025-06-27            NaN   \n",
      "..         ...               ...          ...         ...            ...   \n",
      "95  2025-06-15        2025-06-06   2025-06-08  2025-06-13     2025-06-16   \n",
      "96  2025-06-20        2025-06-13   2025-06-15  2025-06-19     2025-06-21   \n",
      "97  2025-06-13        2025-06-05   2025-06-07  2025-06-09     2025-06-14   \n",
      "98  2025-06-20        2025-06-14   2025-06-16  2025-06-18     2025-06-22   \n",
      "99  2025-06-11        2025-05-30   2025-06-01  2025-06-03     2025-06-14   \n",
      "\n",
      "    Anzahl_Rueckfragen         Status Prioritaet  check  \n",
      "0                    2  abgeschlossen     mittel   True  \n",
      "1                    1  abgeschlossen     mittel   True  \n",
      "2                    0  abgeschlossen    niedrig   True  \n",
      "3                    0          offen       hoch  False  \n",
      "4                    2          offen       hoch  False  \n",
      "..                 ...            ...        ...    ...  \n",
      "95                   0  abgeschlossen     mittel   True  \n",
      "96                   2  abgeschlossen     mittel   True  \n",
      "97                   0  abgeschlossen     mittel   True  \n",
      "98                   1  abgeschlossen     mittel   True  \n",
      "99                   0  abgeschlossen    niedrig   True  \n",
      "\n",
      "[100 rows x 13 columns]\n"
     ]
    }
   ],
   "source": [
    "# Import der csv in Dataframe\n",
    "\n",
    "import pandas as pd\n",
    "\n",
    "#df_Kunden = pd.read_csv(\"../data-prozess-20250714/Daten und Prozessanalyse/csv/Kunden.csv\")\n",
    "df_Bestellung = pd.read_csv (\"../data-prozess-20250714/Daten und Prozessanalyse/Woche 2/Tag 8/csv/hardwarebestellung_prozesse.csv\")\n",
    "\n",
    "print(df_Bestellung)"
   ]
  },
  {
   "cell_type": "code",
   "execution_count": 4,
   "id": "6c5c8165-d379-4a7d-8604-056a4429afbf",
   "metadata": {},
   "outputs": [
    {
     "data": {
      "text/plain": [
       "Prozess_ID            object\n",
       "Mitarbeitername       object\n",
       "Abteilung             object\n",
       "Anfragedatum          object\n",
       "Startdatum            object\n",
       "Genehmigungsdatum     object\n",
       "Bestelldatum          object\n",
       "Lieferdatum           object\n",
       "Uebergabedatum        object\n",
       "Anzahl_Rueckfragen     int64\n",
       "Status                object\n",
       "Prioritaet            object\n",
       "check                   bool\n",
       "dtype: object"
      ]
     },
     "execution_count": 4,
     "metadata": {},
     "output_type": "execute_result"
    }
   ],
   "source": [
    "df_Bestellung.head()       # Erste Zeilen anzeigen\n",
    "df_Bestellung.tail()       # Letzte Zeilen anzeigen\n",
    "df_Bestellung.columns      # Spaltennamen prüfen\n",
    "df_Bestellung.shape        # Dimension (Zeilen, Spalten)\n",
    "df_Bestellung.dtypes       # Datentypen prüfen"
   ]
  },
  {
   "cell_type": "code",
   "execution_count": 5,
   "id": "bb3a855c-4ab9-45aa-8ab6-7da4bbb9e04a",
   "metadata": {},
   "outputs": [
    {
     "data": {
      "text/plain": [
       "<bound method NDFrame.head of    Prozess_ID              Mitarbeitername    Abteilung Anfragedatum  \\\n",
       "0     PRC0001           Aleksandr Weinhage  Buchhaltung   2025-06-05   \n",
       "1     PRC0002  Dr. Christof Weihmann B.Sc.           HR   2025-06-18   \n",
       "2     PRC0003              Klemens Löffler    Marketing   2025-05-24   \n",
       "3     PRC0004               Bayram Harloff     Vertrieb   2025-06-03   \n",
       "4     PRC0005         Karl-Jürgen Gumprich     Vertrieb   2025-06-18   \n",
       "..        ...                          ...          ...          ...   \n",
       "95    PRC0096      Rüdiger Misicher B.Eng.  Buchhaltung   2025-06-06   \n",
       "96    PRC0097    Dr. Aleksander Speer B.A.  Buchhaltung   2025-06-11   \n",
       "97    PRC0098                Erna Bohnbach    Marketing   2025-06-05   \n",
       "98    PRC0099             Manuela Pergande           IT   2025-06-11   \n",
       "99    PRC0100                    Vera Baum           IT   2025-05-28   \n",
       "\n",
       "    Startdatum Genehmigungsdatum Bestelldatum Lieferdatum Uebergabedatum  \\\n",
       "0   2025-06-12        2025-06-08   2025-06-09  2025-06-11     2025-06-13   \n",
       "1   2025-06-29        2025-06-21   2025-06-22  2025-06-27     2025-06-30   \n",
       "2   2025-06-02        2025-05-24   2025-05-26  2025-05-29     2025-06-05   \n",
       "3   2025-06-13        2025-06-05   2025-06-06  2025-06-09            NaN   \n",
       "4   2025-06-29        2025-06-21   2025-06-23  2025-06-27            NaN   \n",
       "..         ...               ...          ...         ...            ...   \n",
       "95  2025-06-15        2025-06-06   2025-06-08  2025-06-13     2025-06-16   \n",
       "96  2025-06-20        2025-06-13   2025-06-15  2025-06-19     2025-06-21   \n",
       "97  2025-06-13        2025-06-05   2025-06-07  2025-06-09     2025-06-14   \n",
       "98  2025-06-20        2025-06-14   2025-06-16  2025-06-18     2025-06-22   \n",
       "99  2025-06-11        2025-05-30   2025-06-01  2025-06-03     2025-06-14   \n",
       "\n",
       "    Anzahl_Rueckfragen         Status Prioritaet  check  \n",
       "0                    2  abgeschlossen     mittel   True  \n",
       "1                    1  abgeschlossen     mittel   True  \n",
       "2                    0  abgeschlossen    niedrig   True  \n",
       "3                    0          offen       hoch  False  \n",
       "4                    2          offen       hoch  False  \n",
       "..                 ...            ...        ...    ...  \n",
       "95                   0  abgeschlossen     mittel   True  \n",
       "96                   2  abgeschlossen     mittel   True  \n",
       "97                   0  abgeschlossen     mittel   True  \n",
       "98                   1  abgeschlossen     mittel   True  \n",
       "99                   0  abgeschlossen    niedrig   True  \n",
       "\n",
       "[100 rows x 13 columns]>"
      ]
     },
     "execution_count": 5,
     "metadata": {},
     "output_type": "execute_result"
    }
   ],
   "source": [
    "df_Bestellung.head"
   ]
  },
  {
   "cell_type": "code",
   "execution_count": 6,
   "id": "2fff7d22-c754-4f36-9a6f-cc3213b698a9",
   "metadata": {},
   "outputs": [
    {
     "data": {
      "text/html": [
       "<div>\n",
       "<style scoped>\n",
       "    .dataframe tbody tr th:only-of-type {\n",
       "        vertical-align: middle;\n",
       "    }\n",
       "\n",
       "    .dataframe tbody tr th {\n",
       "        vertical-align: top;\n",
       "    }\n",
       "\n",
       "    .dataframe thead th {\n",
       "        text-align: right;\n",
       "    }\n",
       "</style>\n",
       "<table border=\"1\" class=\"dataframe\">\n",
       "  <thead>\n",
       "    <tr style=\"text-align: right;\">\n",
       "      <th></th>\n",
       "      <th>Prozess_ID</th>\n",
       "      <th>Mitarbeitername</th>\n",
       "      <th>Abteilung</th>\n",
       "      <th>Anfragedatum</th>\n",
       "      <th>Startdatum</th>\n",
       "      <th>Genehmigungsdatum</th>\n",
       "      <th>Bestelldatum</th>\n",
       "      <th>Lieferdatum</th>\n",
       "      <th>Uebergabedatum</th>\n",
       "      <th>Anzahl_Rueckfragen</th>\n",
       "      <th>Status</th>\n",
       "      <th>Prioritaet</th>\n",
       "      <th>check</th>\n",
       "    </tr>\n",
       "  </thead>\n",
       "  <tbody>\n",
       "    <tr>\n",
       "      <th>3</th>\n",
       "      <td>PRC0004</td>\n",
       "      <td>Bayram Harloff</td>\n",
       "      <td>Vertrieb</td>\n",
       "      <td>2025-06-03</td>\n",
       "      <td>2025-06-13</td>\n",
       "      <td>2025-06-05</td>\n",
       "      <td>2025-06-06</td>\n",
       "      <td>2025-06-09</td>\n",
       "      <td>NaN</td>\n",
       "      <td>0</td>\n",
       "      <td>offen</td>\n",
       "      <td>hoch</td>\n",
       "      <td>False</td>\n",
       "    </tr>\n",
       "    <tr>\n",
       "      <th>4</th>\n",
       "      <td>PRC0005</td>\n",
       "      <td>Karl-Jürgen Gumprich</td>\n",
       "      <td>Vertrieb</td>\n",
       "      <td>2025-06-18</td>\n",
       "      <td>2025-06-29</td>\n",
       "      <td>2025-06-21</td>\n",
       "      <td>2025-06-23</td>\n",
       "      <td>2025-06-27</td>\n",
       "      <td>NaN</td>\n",
       "      <td>2</td>\n",
       "      <td>offen</td>\n",
       "      <td>hoch</td>\n",
       "      <td>False</td>\n",
       "    </tr>\n",
       "    <tr>\n",
       "      <th>53</th>\n",
       "      <td>PRC0054</td>\n",
       "      <td>Britt Löffler B.A.</td>\n",
       "      <td>Forschung</td>\n",
       "      <td>2025-06-05</td>\n",
       "      <td>2025-06-14</td>\n",
       "      <td>2025-06-06</td>\n",
       "      <td>2025-06-07</td>\n",
       "      <td>2025-06-09</td>\n",
       "      <td>NaN</td>\n",
       "      <td>0</td>\n",
       "      <td>offen</td>\n",
       "      <td>mittel</td>\n",
       "      <td>False</td>\n",
       "    </tr>\n",
       "    <tr>\n",
       "      <th>67</th>\n",
       "      <td>PRC0068</td>\n",
       "      <td>Lorenzo Butte</td>\n",
       "      <td>Vertrieb</td>\n",
       "      <td>2025-06-12</td>\n",
       "      <td>2025-06-24</td>\n",
       "      <td>2025-06-12</td>\n",
       "      <td>2025-06-13</td>\n",
       "      <td>2025-06-15</td>\n",
       "      <td>NaN</td>\n",
       "      <td>1</td>\n",
       "      <td>verzögert</td>\n",
       "      <td>niedrig</td>\n",
       "      <td>False</td>\n",
       "    </tr>\n",
       "    <tr>\n",
       "      <th>83</th>\n",
       "      <td>PRC0084</td>\n",
       "      <td>Angela Adler</td>\n",
       "      <td>Marketing</td>\n",
       "      <td>2025-06-08</td>\n",
       "      <td>2025-06-21</td>\n",
       "      <td>2025-06-09</td>\n",
       "      <td>2025-06-10</td>\n",
       "      <td>2025-06-13</td>\n",
       "      <td>NaN</td>\n",
       "      <td>1</td>\n",
       "      <td>offen</td>\n",
       "      <td>mittel</td>\n",
       "      <td>False</td>\n",
       "    </tr>\n",
       "    <tr>\n",
       "      <th>88</th>\n",
       "      <td>PRC0089</td>\n",
       "      <td>Tanja Benthin</td>\n",
       "      <td>IT</td>\n",
       "      <td>2025-06-09</td>\n",
       "      <td>2025-06-17</td>\n",
       "      <td>2025-06-09</td>\n",
       "      <td>2025-06-11</td>\n",
       "      <td>2025-06-15</td>\n",
       "      <td>NaN</td>\n",
       "      <td>2</td>\n",
       "      <td>verzögert</td>\n",
       "      <td>mittel</td>\n",
       "      <td>False</td>\n",
       "    </tr>\n",
       "  </tbody>\n",
       "</table>\n",
       "</div>"
      ],
      "text/plain": [
       "   Prozess_ID       Mitarbeitername  Abteilung Anfragedatum  Startdatum  \\\n",
       "3     PRC0004        Bayram Harloff   Vertrieb   2025-06-03  2025-06-13   \n",
       "4     PRC0005  Karl-Jürgen Gumprich   Vertrieb   2025-06-18  2025-06-29   \n",
       "53    PRC0054    Britt Löffler B.A.  Forschung   2025-06-05  2025-06-14   \n",
       "67    PRC0068         Lorenzo Butte   Vertrieb   2025-06-12  2025-06-24   \n",
       "83    PRC0084          Angela Adler  Marketing   2025-06-08  2025-06-21   \n",
       "88    PRC0089         Tanja Benthin         IT   2025-06-09  2025-06-17   \n",
       "\n",
       "   Genehmigungsdatum Bestelldatum Lieferdatum Uebergabedatum  \\\n",
       "3         2025-06-05   2025-06-06  2025-06-09            NaN   \n",
       "4         2025-06-21   2025-06-23  2025-06-27            NaN   \n",
       "53        2025-06-06   2025-06-07  2025-06-09            NaN   \n",
       "67        2025-06-12   2025-06-13  2025-06-15            NaN   \n",
       "83        2025-06-09   2025-06-10  2025-06-13            NaN   \n",
       "88        2025-06-09   2025-06-11  2025-06-15            NaN   \n",
       "\n",
       "    Anzahl_Rueckfragen     Status Prioritaet  check  \n",
       "3                    0      offen       hoch  False  \n",
       "4                    2      offen       hoch  False  \n",
       "53                   0      offen     mittel  False  \n",
       "67                   1  verzögert    niedrig  False  \n",
       "83                   1      offen     mittel  False  \n",
       "88                   2  verzögert     mittel  False  "
      ]
     },
     "execution_count": 6,
     "metadata": {},
     "output_type": "execute_result"
    }
   ],
   "source": [
    "df_Bestellung.isnull().sum()                # Anzahl fehlender Werte pro Spalte\n",
    "df_Bestellung[df_Bestellung.isnull().any(axis=1)]     # Zeilen mit fehlenden Werten anzeigen"
   ]
  },
  {
   "cell_type": "code",
   "execution_count": 9,
   "id": "7d5bf916-2b02-4533-87d6-c2439ca26b9d",
   "metadata": {},
   "outputs": [
    {
     "data": {
      "text/plain": [
       "0"
      ]
     },
     "execution_count": 9,
     "metadata": {},
     "output_type": "execute_result"
    }
   ],
   "source": [
    "# Datum richtig formatiert\n",
    "pd.to_datetime(df_Bestellung[\"Startdatum\"], errors=\"coerce\").isnull().sum()"
   ]
  },
  {
   "cell_type": "code",
   "execution_count": 11,
   "id": "01930dd7-d659-4f87-851d-ce107966dadc",
   "metadata": {},
   "outputs": [
    {
     "data": {
      "text/plain": [
       "6"
      ]
     },
     "execution_count": 11,
     "metadata": {},
     "output_type": "execute_result"
    }
   ],
   "source": [
    "pd.to_datetime(df_Bestellung[\"Anfragedatum\"], errors=\"coerce\").isnull().sum()\n",
    "pd.to_datetime(df_Bestellung[\"Startdatum\"], errors=\"coerce\").isnull().sum()\n",
    "pd.to_datetime(df_Bestellung[\"Genehmigungsdatum\"], errors=\"coerce\").isnull().sum()\n",
    "pd.to_datetime(df_Bestellung[\"Bestelldatum\"], errors=\"coerce\").isnull().sum()\n",
    "pd.to_datetime(df_Bestellung[\"Lieferdatum\"], errors=\"coerce\").isnull().sum()\n",
    "pd.to_datetime(df_Bestellung[\"Uebergabedatum\"], errors=\"coerce\").isnull().sum()"
   ]
  },
  {
   "cell_type": "code",
   "execution_count": 13,
   "id": "dd98ea46-5f25-47be-8cdf-1a82d6b4464b",
   "metadata": {},
   "outputs": [],
   "source": [
    "#Kopie der DF damit ich die Daten bereinigen kann\n",
    "df_original = df_Bestellung.copy()\n",
    "# Bereinigung: nur vollständige und eindeutige Datensätze\n",
    "df_clean = df_original.dropna().drop_duplicates()"
   ]
  },
  {
   "cell_type": "code",
   "execution_count": 14,
   "id": "49504dcc-429f-41d4-bbff-1ddb7719eb82",
   "metadata": {},
   "outputs": [
    {
     "name": "stdout",
     "output_type": "stream",
     "text": [
      "   Prozess_ID              Mitarbeitername    Abteilung Anfragedatum  \\\n",
      "0     PRC0001           Aleksandr Weinhage  Buchhaltung   2025-06-05   \n",
      "1     PRC0002  Dr. Christof Weihmann B.Sc.           HR   2025-06-18   \n",
      "2     PRC0003              Klemens Löffler    Marketing   2025-05-24   \n",
      "5     PRC0006           Dr. Ingrid Schäfer    Marketing   2025-06-05   \n",
      "6     PRC0007           Raik Freudenberger     Vertrieb   2025-06-12   \n",
      "..        ...                          ...          ...          ...   \n",
      "95    PRC0096      Rüdiger Misicher B.Eng.  Buchhaltung   2025-06-06   \n",
      "96    PRC0097    Dr. Aleksander Speer B.A.  Buchhaltung   2025-06-11   \n",
      "97    PRC0098                Erna Bohnbach    Marketing   2025-06-05   \n",
      "98    PRC0099             Manuela Pergande           IT   2025-06-11   \n",
      "99    PRC0100                    Vera Baum           IT   2025-05-28   \n",
      "\n",
      "    Startdatum Genehmigungsdatum Bestelldatum Lieferdatum Uebergabedatum  \\\n",
      "0   2025-06-12        2025-06-08   2025-06-09  2025-06-11     2025-06-13   \n",
      "1   2025-06-29        2025-06-21   2025-06-22  2025-06-27     2025-06-30   \n",
      "2   2025-06-02        2025-05-24   2025-05-26  2025-05-29     2025-06-05   \n",
      "5   2025-06-12        2025-06-08   2025-06-09  2025-06-14     2025-06-16   \n",
      "6   2025-06-24        2025-06-15   2025-06-16  2025-06-18     2025-06-20   \n",
      "..         ...               ...          ...         ...            ...   \n",
      "95  2025-06-15        2025-06-06   2025-06-08  2025-06-13     2025-06-16   \n",
      "96  2025-06-20        2025-06-13   2025-06-15  2025-06-19     2025-06-21   \n",
      "97  2025-06-13        2025-06-05   2025-06-07  2025-06-09     2025-06-14   \n",
      "98  2025-06-20        2025-06-14   2025-06-16  2025-06-18     2025-06-22   \n",
      "99  2025-06-11        2025-05-30   2025-06-01  2025-06-03     2025-06-14   \n",
      "\n",
      "    Anzahl_Rueckfragen         Status Prioritaet  check  \n",
      "0                    2  abgeschlossen     mittel   True  \n",
      "1                    1  abgeschlossen     mittel   True  \n",
      "2                    0  abgeschlossen    niedrig   True  \n",
      "5                    2  abgeschlossen     mittel   True  \n",
      "6                    0  abgeschlossen       hoch  False  \n",
      "..                 ...            ...        ...    ...  \n",
      "95                   0  abgeschlossen     mittel   True  \n",
      "96                   2  abgeschlossen     mittel   True  \n",
      "97                   0  abgeschlossen     mittel   True  \n",
      "98                   1  abgeschlossen     mittel   True  \n",
      "99                   0  abgeschlossen    niedrig   True  \n",
      "\n",
      "[94 rows x 13 columns]\n"
     ]
    }
   ],
   "source": [
    "print(df_clean)"
   ]
  },
  {
   "cell_type": "code",
   "execution_count": 16,
   "id": "39d849a0-6ebb-4614-8c27-597abb712174",
   "metadata": {},
   "outputs": [
    {
     "name": "stdout",
     "output_type": "stream",
     "text": [
      "   Anfragedatum Uebergabedatum  Dauer\n",
      "0    2025-06-05     2025-06-13      8\n",
      "1    2025-06-18     2025-06-30     12\n",
      "2    2025-05-24     2025-06-05     12\n",
      "5    2025-06-05     2025-06-16     11\n",
      "6    2025-06-12     2025-06-20      8\n",
      "..          ...            ...    ...\n",
      "95   2025-06-06     2025-06-16     10\n",
      "96   2025-06-11     2025-06-21     10\n",
      "97   2025-06-05     2025-06-14      9\n",
      "98   2025-06-11     2025-06-22     11\n",
      "99   2025-05-28     2025-06-14     17\n",
      "\n",
      "[94 rows x 3 columns]\n"
     ]
    }
   ],
   "source": [
    "# Datumsfelder in echte Datumsobjekte umwandeln\n",
    "df_clean['Anfragedatum'] = pd.to_datetime(df_clean['Anfragedatum'])\n",
    "df_clean['Uebergabedatum'] = pd.to_datetime(df_clean['Uebergabedatum'])\n",
    "\n",
    "# Dauer berechnen (Differenz in Tagen)\n",
    "df_clean['Dauer'] = (df_clean['Uebergabedatum'] - df_clean['Anfragedatum']).dt.days\n",
    "\n",
    "# Gewünschte Spalten auswählen\n",
    "df_ausgabe = df_clean[['Anfragedatum', 'Uebergabedatum', 'Dauer']]\n",
    "\n",
    "print(df_ausgabe)"
   ]
  },
  {
   "cell_type": "code",
   "execution_count": null,
   "id": "3ffa0bc3-53e0-4860-a714-afbc967f916a",
   "metadata": {},
   "outputs": [],
   "source": []
  }
 ],
 "metadata": {
  "kernelspec": {
   "display_name": "Python [conda env:base] *",
   "language": "python",
   "name": "conda-base-py"
  },
  "language_info": {
   "codemirror_mode": {
    "name": "ipython",
    "version": 3
   },
   "file_extension": ".py",
   "mimetype": "text/x-python",
   "name": "python",
   "nbconvert_exporter": "python",
   "pygments_lexer": "ipython3",
   "version": "3.12.7"
  }
 },
 "nbformat": 4,
 "nbformat_minor": 5
}
