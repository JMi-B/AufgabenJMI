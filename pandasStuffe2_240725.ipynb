{
 "cells": [
  {
   "cell_type": "code",
   "execution_count": 1,
   "id": "24b2e9da-6fd4-4cc1-81f3-f50df6b3449c",
   "metadata": {},
   "outputs": [
    {
     "name": "stdout",
     "output_type": "stream",
     "text": [
      "0    98\n",
      "1    58\n",
      "2    32\n",
      "3    84\n",
      "4    82\n",
      "dtype: int32\n"
     ]
    }
   ],
   "source": [
    "# Pandas Stuffe 2 Rechnen und Filtern\n",
    "# import pandas und numpy\n",
    "\n",
    "import pandas as pd\n",
    "import numpy as np\n",
    "\n",
    "# Array erstellen\n",
    "zufallszahlen = np.random.randint(0,100, size=5)\n",
    "s =pd.Series(zufallszahlen)\n",
    "print(s)"
   ]
  },
  {
   "cell_type": "code",
   "execution_count": 2,
   "id": "12904c90-b2f1-4803-b896-0766c6736c2c",
   "metadata": {},
   "outputs": [
    {
     "name": "stdout",
     "output_type": "stream",
     "text": [
      "0    196\n",
      "1    116\n",
      "2     64\n",
      "3    168\n",
      "4    164\n",
      "dtype: int32\n"
     ]
    }
   ],
   "source": [
    "# Multiplizieren mit 2\n",
    "s_multipiziert = s * 2\n",
    "print(s_multipiziert)"
   ]
  },
  {
   "cell_type": "code",
   "execution_count": 3,
   "id": "9b5dad19-6f0b-47b1-8fb1-6738a6942472",
   "metadata": {},
   "outputs": [
    {
     "name": "stdout",
     "output_type": "stream",
     "text": [
      "0    101\n",
      "1    132\n",
      "2     54\n",
      "3     71\n",
      "4     87\n",
      "dtype: int32\n"
     ]
    }
   ],
   "source": [
    "# zweite Series\n",
    "zufallszahlen2 = np.random.randint (51,150, size=5)\n",
    "s=pd.Series(zufallszahlen2)\n",
    "print(s)"
   ]
  },
  {
   "cell_type": "code",
   "execution_count": 7,
   "id": "81e0a028-cfc2-4bc5-b4c5-b6a2c42125fe",
   "metadata": {},
   "outputs": [
    {
     "name": "stdout",
     "output_type": "stream",
     "text": [
      "4\n"
     ]
    }
   ],
   "source": [
    "# bestimmte WErte\n",
    "anzahl = (s>70).sum()\n",
    "print(anzahl)"
   ]
  },
  {
   "cell_type": "code",
   "execution_count": 8,
   "id": "7b5e964b-220a-47c7-87fd-bee6bf28248e",
   "metadata": {},
   "outputs": [
    {
     "name": "stdout",
     "output_type": "stream",
     "text": [
      "29.77414986191881\n"
     ]
    }
   ],
   "source": [
    "#Standartabweichung\n",
    "std_abweichung = s.std()\n",
    "print(std_abweichung)"
   ]
  },
  {
   "cell_type": "code",
   "execution_count": null,
   "id": "aad7d463-39a2-4b2e-a8b9-97b462ca1787",
   "metadata": {},
   "outputs": [],
   "source": []
  }
 ],
 "metadata": {
  "kernelspec": {
   "display_name": "Python 3 (ipykernel)",
   "language": "python",
   "name": "python3"
  },
  "language_info": {
   "codemirror_mode": {
    "name": "ipython",
    "version": 3
   },
   "file_extension": ".py",
   "mimetype": "text/x-python",
   "name": "python",
   "nbconvert_exporter": "python",
   "pygments_lexer": "ipython3",
   "version": "3.12.7"
  }
 },
 "nbformat": 4,
 "nbformat_minor": 5
}
