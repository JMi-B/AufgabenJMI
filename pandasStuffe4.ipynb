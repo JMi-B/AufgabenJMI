{
 "cells": [
  {
   "cell_type": "code",
   "execution_count": 3,
   "id": "189cfbd8-99f9-40e4-850d-303302b4a2ef",
   "metadata": {},
   "outputs": [
    {
     "name": "stdout",
     "output_type": "stream",
     "text": [
      "Apfel     10\n",
      "Banane    15\n",
      "Kiwi      20\n",
      "dtype: int64\n",
      "Apfel     2\n",
      "Banane    3\n",
      "Kiwi      1\n",
      "dtype: int64\n"
     ]
    }
   ],
   "source": [
    "# Pandas Stufe 4\n",
    "# Anwndung und Kombination\n",
    "# 16\n",
    "# 2 series erstellen\n",
    "\n",
    "import pandas as pd\n",
    "\n",
    "preise = pd.Series([10, 15, 20], index =[\"Apfel\", \"Banane\", \"Kiwi\"])\n",
    "mengen = pd.Series([2, 3, 1], index =[\"Apfel\", \"Banane\", \"Kiwi\"])\n",
    "\n",
    "print(preise)\n",
    "print(mengen)\n",
    "\n"
   ]
  },
  {
   "cell_type": "code",
   "execution_count": 4,
   "id": "66476951-bf1c-492e-9d02-4c35dd794a5d",
   "metadata": {},
   "outputs": [
    {
     "name": "stdout",
     "output_type": "stream",
     "text": [
      "Apfel     20\n",
      "Banane    45\n",
      "Kiwi      20\n",
      "dtype: int64\n"
     ]
    }
   ],
   "source": [
    "# 17. Berechnung der Gesamtsumme alle Produkte\n",
    "gesamtpreis = preise * mengen\n",
    "print(gesamtpreis)"
   ]
  },
  {
   "cell_type": "code",
   "execution_count": 5,
   "id": "fdeec003-1291-4d9c-8ae9-8382f3d73546",
   "metadata": {},
   "outputs": [
    {
     "name": "stdout",
     "output_type": "stream",
     "text": [
      "85\n"
     ]
    }
   ],
   "source": [
    "gesamtsumme = gesamtpreis.sum()\n",
    "print(gesamtsumme)"
   ]
  },
  {
   "cell_type": "code",
   "execution_count": 6,
   "id": "83c78f58-a78e-4bca-9b97-ab7792c0e422",
   "metadata": {},
   "outputs": [
    {
     "name": "stdout",
     "output_type": "stream",
     "text": [
      "0    10\n",
      "1    12\n",
      "2    30\n",
      "3    50\n",
      "dtype: int64\n"
     ]
    }
   ],
   "source": [
    "# 18 normieren Zahlen in prozen\n",
    "\n",
    "zahlen = pd.Series([10, 12, 30, 50,])\n",
    "print(zahlen)\n"
   ]
  },
  {
   "cell_type": "code",
   "execution_count": 7,
   "id": "bed19634-fcf5-4a2f-b97f-19e512c55d85",
   "metadata": {},
   "outputs": [
    {
     "name": "stdout",
     "output_type": "stream",
     "text": [
      "0     9.803922\n",
      "1    11.764706\n",
      "2    29.411765\n",
      "3    49.019608\n",
      "dtype: float64\n"
     ]
    }
   ],
   "source": [
    "prozent = zahlen / zahlen.sum()*100\n",
    "# .sum gesamtsumme aller Werte, jeder wert wird durch die gesamtsumme aller WErte geteilt, sodass die Summe aller WErte 1 ist (normierung) *100 = prozent\n",
    "print(prozent)"
   ]
  },
  {
   "cell_type": "code",
   "execution_count": 8,
   "id": "3297cdcb-0bc2-40e9-b8af-b27b77e10f42",
   "metadata": {},
   "outputs": [],
   "source": [
    "# runden\n",
    "\n",
    "prozent = (zahlen/ zahlen.sum() *100).round(2)\n"
   ]
  },
  {
   "cell_type": "code",
   "execution_count": 9,
   "id": "c82436dc-e6e5-41ef-9e8b-71047d37fa14",
   "metadata": {},
   "outputs": [
    {
     "name": "stdout",
     "output_type": "stream",
     "text": [
      "0     9.80\n",
      "1    11.76\n",
      "2    29.41\n",
      "3    49.02\n",
      "dtype: float64\n"
     ]
    }
   ],
   "source": [
    "print(prozent)\n"
   ]
  },
  {
   "cell_type": "code",
   "execution_count": 10,
   "id": "aa86923a-a753-4061-8e66-104d49ca7711",
   "metadata": {},
   "outputs": [],
   "source": [
    "# 19. Wandle eine `Series` in einen `DataFrame` um und gib ihr den Spaltennamen `\"Wert\"`."
   ]
  },
  {
   "cell_type": "code",
   "execution_count": 11,
   "id": "21a95e92-b3f2-4a97-be0c-781f8cc4d81c",
   "metadata": {},
   "outputs": [],
   "source": [
    "df = prozent.to_frame(name=\"Wert\")"
   ]
  },
  {
   "cell_type": "code",
   "execution_count": 13,
   "id": "92718c1b-e5cc-4f35-b112-e3cba5300ae7",
   "metadata": {},
   "outputs": [
    {
     "name": "stdout",
     "output_type": "stream",
     "text": [
      "    Wert\n",
      "0   9.80\n",
      "1  11.76\n",
      "2  29.41\n",
      "3  49.02\n"
     ]
    }
   ],
   "source": [
    "print(df)\n"
   ]
  },
  {
   "cell_type": "code",
   "execution_count": 16,
   "id": "43cdba31-ea40-490c-823d-dba22c331ca5",
   "metadata": {},
   "outputs": [
    {
     "name": "stdout",
     "output_type": "stream",
     "text": [
      "2025-08-03    37\n",
      "2025-08-04    83\n",
      "2025-08-05    78\n",
      "2025-08-06    10\n",
      "2025-08-07    78\n",
      "2025-08-08    34\n",
      "2025-08-09    95\n",
      "Freq: D, dtype: int32\n"
     ]
    }
   ],
   "source": [
    "# 20. Erstelle eine Zeitreihe (`Series` mit `DatetimeIndex`) mit 7 zufälligen Werten für eine Woche.\n",
    "\n",
    "import numpy as np\n",
    "# Datumsbereich erzeugen\n",
    "datum = pd.date_range(start=\"2025-08-03\", periods=7, freq='D')\n",
    "\n",
    "# ERzeugt Zufallswerte\n",
    "zufallszahlen = np.random.randint(0,100, size=7)\n",
    "\n",
    "# Series erstellen DateTimeIndex\n",
    "zeitreihe = pd.Series(zufallszahlen, index = datum)\n",
    "print(zeitreihe)"
   ]
  },
  {
   "cell_type": "code",
   "execution_count": 23,
   "id": "96f1795e-f8d5-4490-8116-baf647806e7e",
   "metadata": {},
   "outputs": [
    {
     "name": "stdout",
     "output_type": "stream",
     "text": [
      "2025-08-03    56.489225\n",
      "2025-08-04    84.752877\n",
      "2025-08-05    78.089320\n",
      "2025-08-06    64.295150\n",
      "2025-08-07    85.918038\n",
      "2025-08-08    87.099464\n",
      "2025-08-09    35.509499\n",
      "Freq: D, dtype: float64\n"
     ]
    }
   ],
   "source": [
    "# mit rendom\n",
    "import random\n",
    "# Datumsbereich erzeugen\n",
    "datum = pd.date_range(start=\"2025-08-03\", periods=7, freq='D')\n",
    "# Ganzezahlen\n",
    "#werte = [random.randint(1, 100) for _ in range(7)]\n",
    "#mit komma\n",
    "werte = [random.uniform(1, 100) for _ in range(7)]\n",
    "reihe = pd.Series(werte, index = datum)\n",
    "print(reihe)"
   ]
  },
  {
   "cell_type": "code",
   "execution_count": null,
   "id": "aa687ee1-521e-4e97-986c-f127d159927d",
   "metadata": {},
   "outputs": [],
   "source": []
  }
 ],
 "metadata": {
  "kernelspec": {
   "display_name": "Python 3 (ipykernel)",
   "language": "python",
   "name": "python3"
  },
  "language_info": {
   "codemirror_mode": {
    "name": "ipython",
    "version": 3
   },
   "file_extension": ".py",
   "mimetype": "text/x-python",
   "name": "python",
   "nbconvert_exporter": "python",
   "pygments_lexer": "ipython3",
   "version": "3.12.7"
  }
 },
 "nbformat": 4,
 "nbformat_minor": 5
}
