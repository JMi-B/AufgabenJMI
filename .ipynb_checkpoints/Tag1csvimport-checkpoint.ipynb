{
 "cells": [
  {
   "cell_type": "code",
   "execution_count": 3,
   "id": "78da310c-c431-4add-ba96-e9de0b572d89",
   "metadata": {},
   "outputs": [
    {
     "name": "stdout",
     "output_type": "stream",
     "text": [
      "ID: 1, Name: Max Mustermann, E-Mail: max@example.com\n",
      "ID: 2, Name: Erika Musterfrau, E-Mail: erika@example.com\n"
     ]
    }
   ],
   "source": [
    "#Aufgabe 1: Einfache CSV-Zeilen einlesen (mit `csv.reader`)\n",
    "# **Datei:** `personen.csv`\n",
    "\n",
    "# csv\n",
    "# 1,Max Mustermann,max@example.com\n",
    "# 2,Erika Musterfrau,erika@example.com\n",
    "\n",
    "\n",
    "# **Aufgabenstellung:**\n",
    "# - Lies die Datei zeilenweise mit dem Modul `csv`.\n",
    "# - Zerlege jede Zeile in Felder.\n",
    "# - Gib ID, Name und E-Mail aus.\n",
    "\n",
    "# **Lernziel:** Grundlagen des Datei- und String-Imports in Python.\n",
    "\n",
    "import csv\n",
    "\n",
    "# Öffne die Datei 'personen.csv' im Lesemodus\n",
    "with open('personen.csv', newline='', encoding='utf-8') as csvfile:\n",
    "    reader = csv.reader(csvfile)\n",
    "    for row in reader:\n",
    "        # row ist eine Liste: [ID, Name, E-Mail]\n",
    "        id_, name, email = row\n",
    "        print(f\"ID: {id_}, Name: {name}, E-Mail: {email}\")"
   ]
  },
  {
   "cell_type": "code",
   "execution_count": 4,
   "id": "d4847289-89d6-4f69-94dd-a3c59ff96b31",
   "metadata": {},
   "outputs": [
    {
     "name": "stdout",
     "output_type": "stream",
     "text": [
      "id: 1\n",
      "name: Max Mustermann\n",
      "email: max@example.com\n",
      "---\n",
      "id: 2\n",
      "name: Erika Musterfrau\n",
      "email: erika@example.com\n",
      "---\n"
     ]
    }
   ],
   "source": [
    "#Aufgabe 2: Verarbeitung mit Header (`csv.DictReader`)\n",
    "#**Aufgabenstellung:**\n",
    "#- Nutze `csv.DictReader`, um die Datei inklusive Kopfzeile einzulesen.\n",
    "#- Gib die Werte pro Feldname aus.\n",
    "\n",
    "#**Lernziel:** Komfortable Verarbeitung mit Feldnamen.\n",
    "\n",
    "with open('personen.csv', newline='', encoding='utf-8') as csvfile:\n",
    "    reader = csv.DictReader(csvfile)\n",
    "    for row in reader:\n",
    "        # row ist ein Dictionary: {Feldname: Wert}\n",
    "        # Beispiel: {'ID': '1', 'Name': 'Max Mustermann', 'E-Mail': 'max@example.com'}\n",
    "        for key, value in row.items():\n",
    "            print(f\"{key}: {value}\")\n",
    "        print(\"---\")"
   ]
  },
  {
   "cell_type": "code",
   "execution_count": 6,
   "id": "055d887c-f204-42bb-8eb8-0d964192730e",
   "metadata": {},
   "outputs": [
    {
     "name": "stdout",
     "output_type": "stream",
     "text": [
      "Person(id=1, name='Max Mustermann', email='max@example.com', aktiv=True)\n",
      "Person(id=2, name='Erika Musterfrau', email='erika@example.com', aktiv=True)\n"
     ]
    }
   ],
   "source": [
    "#Aufgabe 3: CSV zu Python-Objekten (mit `dataclass`)\n",
    "\n",
    "#**Datei:** `personen.csv`\n",
    "\n",
    "#```csv\n",
    "#id,name,email,aktiv\n",
    "#1,Max Mustermann,max@example.com,true\n",
    "#2,Erika Musterfrau,erika@example.com,false\n",
    "#```\n",
    "\n",
    "#**Aufgabenstellung:**\n",
    "#- Erstelle eine `@dataclass` namens `Person` mit den Feldern `id`, `name`, `email`, `aktiv`.\n",
    "#- Lies die Datei mit `csv.DictReader` ein.\n",
    "#- Erstelle für jede Zeile ein `Person`-Objekt und gib es aus.\n",
    "\n",
    "#**Lernziel:** Arbeiten mit strukturierten Objekten in Python.\n",
    "\n",
    "from dataclasses import dataclass\n",
    "\n",
    "@dataclass\n",
    "class Person:\n",
    "    id: int\n",
    "    name: str\n",
    "    email: str\n",
    "    aktiv: bool\n",
    "\n",
    "personen = []\n",
    "\n",
    "with open('personen.csv', newline='', encoding='utf-8') as csvfile:\n",
    "    reader = csv.DictReader(csvfile)\n",
    "    for row in reader:\n",
    "        # Konvertierung der Felder\n",
    "        id_ = int(row['id'])\n",
    "        name = row['name']\n",
    "        email = row['email']\n",
    "        aktiv = row['aktiv'].lower() == 'true'\n",
    "        \n",
    "        p = Person(id=id_, name=name, email=email, aktiv=aktiv)\n",
    "        personen.append(p)\n",
    "\n",
    "for person in personen:\n",
    "    print(person)"
   ]
  },
  {
   "cell_type": "code",
   "execution_count": 1,
   "id": "0003c990-9f7d-467b-ab79-1bf721ec9a86",
   "metadata": {},
   "outputs": [
    {
     "name": "stdout",
     "output_type": "stream",
     "text": [
      "Gültig: 1\n",
      "Fehler: 3\n",
      "Aktiv: 1 (25.0%)\n"
     ]
    }
   ],
   "source": [
    "# Aufgabe 4: Fehlerbehandlung + Filterung + Statistik\n",
    "\n",
    "#**Datei:** `personen.csv`\n",
    "\n",
    "#```csv\n",
    "#id,name,email,aktiv\n",
    "#1,Max Mustermann,max@example.com,true\n",
    "#2,Erika Musterfrau,,false\n",
    "#3,,hans@example.com,true\n",
    "#4,Julia,invalid-mail,true\n",
    "#```\n",
    "\n",
    "#**Aufgabenstellung:**\n",
    "#- Lies die Datei mit `csv.DictReader`.\n",
    "#- Prüfe jede Zeile auf:\n",
    "#  - leeren Namen oder E-Mail\n",
    "#  - ungültige E-Mail-Adresse (z. B. ohne `@`)\n",
    "#- Filtere nur gültige und aktive Benutzer.\n",
    "#- Gib folgende Statistik aus:\n",
    "#  - Anzahl gültiger Datensätze\n",
    "#  - Anzahl fehlerhafter Datensätze\n",
    "#  - Anteil aktiver Benutzer in %\n",
    "\n",
    "# **Lernziel:** Robuste Datenverarbeitung mit Validierung und Auswertung.\n",
    "\n",
    "# Lösung von Copilot abgetippt\n",
    "\n",
    "import csv\n",
    "\n",
    "# Datei lesen\n",
    "\n",
    "#    Die Datei wird geöffnet und mit DictReader eingelesen.\n",
    " #   Jede Zeile wird als Dictionary (dict) gespeichert – die Spaltennamen sind die Schlüssel.\n",
    "\n",
    "with open(\"personen.csv\", encoding=\"utf-8\") as f:\n",
    "    reader = csv.DictReader(f)\n",
    "    personen = list(reader)\n",
    "\n",
    "# Inizialisierung der Zähler\n",
    "\n",
    "ok = 0 # Zählt gültige Datensätze\n",
    "fehler = 0  # Zählt fehlerhafte Datensätze\n",
    "aktiv = 0  # Zählt gültige und aktive Benutzer\n",
    "\n",
    "# Validierungsfunktion\n",
    "\n",
    "#    Prüft, ob Name und E-Mail nicht leer sind.\n",
    "#    Prüft, ob die E-Mail ein @ enthält (einfacher Gültigkeitscheck).\n",
    "\n",
    "def ist_gueltig(p): # def name (Argument) Hier eine ifels\n",
    "    # Index name und email sind nicht leer\n",
    "    if not p[\"name\"] or not p[\"email\"]:\n",
    "        return False\n",
    "    # email enthält @\n",
    "    if \"@\" not in p[\"email\"]:\n",
    "        return False\n",
    "    return True\n",
    "\n",
    "# Verarbeitung der Daten\n",
    "\n",
    "#    Für jede Person wird geprüft, ob die Daten gültig sind.\n",
    "#    Fehlerhafte Datensätze werden gezählt und übersprungen.\n",
    "#    Nur gültige und aktive Benutzer werden gezählt.\n",
    "\n",
    "for p in personen:\n",
    "    if not ist_gueltig(p):\n",
    "        fehler += 1\n",
    "        continue\n",
    "    if p[\"aktiv\"].lower() == \"true\":\n",
    "        aktiv += 1\n",
    "    ok += 1\n",
    "\n",
    "# Statistik berechnen und ausgeben\n",
    "\n",
    "#    Gesamtzahl: alle Datensätze (gültig + fehlerhaft)\n",
    "#    Anteil aktiver Benutzer: Verhältnis von aktiven zu allen Datensätzen (in Prozent)\n",
    "#    Ausgabe: Die Ergebnisse werden angezeigt.\n",
    "\n",
    "gesamt = ok + fehler\n",
    "anteil_aktiv = aktiv / gesamt * 100 if gesamt else 0\n",
    "\n",
    "print(f\"Gültig: {ok}\")\n",
    "print(f\"Fehler: {fehler}\")\n",
    "print(f\"Aktiv: {aktiv} ({anteil_aktiv:.1f}%)\")\n"
   ]
  },
  {
   "cell_type": "code",
   "execution_count": null,
   "id": "6e4b5a6c-76c0-4a6a-b5e7-2484460e94b3",
   "metadata": {},
   "outputs": [],
   "source": []
  }
 ],
 "metadata": {
  "kernelspec": {
   "display_name": "Python [conda env:base] *",
   "language": "python",
   "name": "conda-base-py"
  },
  "language_info": {
   "codemirror_mode": {
    "name": "ipython",
    "version": 3
   },
   "file_extension": ".py",
   "mimetype": "text/x-python",
   "name": "python",
   "nbconvert_exporter": "python",
   "pygments_lexer": "ipython3",
   "version": "3.12.7"
  }
 },
 "nbformat": 4,
 "nbformat_minor": 5
}
