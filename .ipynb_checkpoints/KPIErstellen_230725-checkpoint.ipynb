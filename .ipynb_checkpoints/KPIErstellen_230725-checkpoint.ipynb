{
 "cells": [
  {
   "cell_type": "code",
   "execution_count": 2,
   "id": "5c2eb80d-529f-4bb4-9c1b-d48720d3df63",
   "metadata": {},
   "outputs": [
    {
     "name": "stdout",
     "output_type": "stream",
     "text": [
      "   Prozess_ID              Mitarbeitername    Abteilung Anfragedatum  \\\n",
      "0     PRC0001           Aleksandr Weinhage  Buchhaltung   2025-06-05   \n",
      "1     PRC0002  Dr. Christof Weihmann B.Sc.           HR   2025-06-18   \n",
      "2     PRC0003              Klemens Löffler    Marketing   2025-05-24   \n",
      "3     PRC0004               Bayram Harloff     Vertrieb   2025-06-03   \n",
      "4     PRC0005         Karl-Jürgen Gumprich     Vertrieb   2025-06-18   \n",
      "..        ...                          ...          ...          ...   \n",
      "95    PRC0096      Rüdiger Misicher B.Eng.  Buchhaltung   2025-06-06   \n",
      "96    PRC0097    Dr. Aleksander Speer B.A.  Buchhaltung   2025-06-11   \n",
      "97    PRC0098                Erna Bohnbach    Marketing   2025-06-05   \n",
      "98    PRC0099             Manuela Pergande           IT   2025-06-11   \n",
      "99    PRC0100                    Vera Baum           IT   2025-05-28   \n",
      "\n",
      "    Startdatum Genehmigungsdatum Bestelldatum Lieferdatum Uebergabedatum  \\\n",
      "0   2025-06-12        2025-06-08   2025-06-09  2025-06-11     2025-06-13   \n",
      "1   2025-06-29        2025-06-21   2025-06-22  2025-06-27     2025-06-30   \n",
      "2   2025-06-02        2025-05-24   2025-05-26  2025-05-29     2025-06-05   \n",
      "3   2025-06-13        2025-06-05   2025-06-06  2025-06-09            NaN   \n",
      "4   2025-06-29        2025-06-21   2025-06-23  2025-06-27            NaN   \n",
      "..         ...               ...          ...         ...            ...   \n",
      "95  2025-06-15        2025-06-06   2025-06-08  2025-06-13     2025-06-16   \n",
      "96  2025-06-20        2025-06-13   2025-06-15  2025-06-19     2025-06-21   \n",
      "97  2025-06-13        2025-06-05   2025-06-07  2025-06-09     2025-06-14   \n",
      "98  2025-06-20        2025-06-14   2025-06-16  2025-06-18     2025-06-22   \n",
      "99  2025-06-11        2025-05-30   2025-06-01  2025-06-03     2025-06-14   \n",
      "\n",
      "    Anzahl_Rueckfragen         Status Prioritaet  check  \n",
      "0                    2  abgeschlossen     mittel   True  \n",
      "1                    1  abgeschlossen     mittel   True  \n",
      "2                    0  abgeschlossen    niedrig   True  \n",
      "3                    0          offen       hoch  False  \n",
      "4                    2          offen       hoch  False  \n",
      "..                 ...            ...        ...    ...  \n",
      "95                   0  abgeschlossen     mittel   True  \n",
      "96                   2  abgeschlossen     mittel   True  \n",
      "97                   0  abgeschlossen     mittel   True  \n",
      "98                   1  abgeschlossen     mittel   True  \n",
      "99                   0  abgeschlossen    niedrig   True  \n",
      "\n",
      "[100 rows x 13 columns]\n"
     ]
    }
   ],
   "source": [
    "# Import der csv in Dataframe\n",
    "\n",
    "import pandas as pd\n",
    "\n",
    "#df_Kunden = pd.read_csv(\"../data-prozess-20250714/Daten und Prozessanalyse/csv/Kunden.csv\")\n",
    "df_Bestellung = pd.read_csv (\"../data-prozess-20250714/Daten und Prozessanalyse/Woche 2/Tag 8/csv/hardwarebestellung_prozesse.csv\")\n",
    "\n",
    "print(df_Bestellung)"
   ]
  },
  {
   "cell_type": "code",
   "execution_count": null,
   "id": "6c5c8165-d379-4a7d-8604-056a4429afbf",
   "metadata": {},
   "outputs": [],
   "source": []
  }
 ],
 "metadata": {
  "kernelspec": {
   "display_name": "Python 3 (ipykernel)",
   "language": "python",
   "name": "python3"
  },
  "language_info": {
   "codemirror_mode": {
    "name": "ipython",
    "version": 3
   },
   "file_extension": ".py",
   "mimetype": "text/x-python",
   "name": "python",
   "nbconvert_exporter": "python",
   "pygments_lexer": "ipython3",
   "version": "3.12.7"
  }
 },
 "nbformat": 4,
 "nbformat_minor": 5
}
