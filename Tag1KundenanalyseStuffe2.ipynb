{
 "cells": [
  {
   "cell_type": "code",
   "execution_count": 3,
   "id": "1dfcd22a-afe2-4e0e-9c9e-7022d0682b2c",
   "metadata": {},
   "outputs": [
    {
     "name": "stdout",
     "output_type": "stream",
     "text": [
      "        Vorname   Nachname    PLZ                   Ort\n",
      "0          Anna     Müller  29599                 Weste\n",
      "1          Anna    Schmidt  89358             Kammeltal\n",
      "2          Anna  Schneider  19417                 Bibow\n",
      "3          Anna    Fischer  67693             Fischbach\n",
      "4          Anna      Weber  69242            Mühlhausen\n",
      "...         ...        ...    ...                   ...\n",
      "2495  Zacharias      Linke  53508              Mayschoß\n",
      "2496  Zacharias      Fuchs  25799                 Wrohm\n",
      "2497  Zacharias     Möller  73312             Deggingen\n",
      "2498  Zacharias       Paul  65343     Eltville am Rhein\n",
      "2499  Zacharias       Horn  98587  Steinbach-Hallenberg\n",
      "\n",
      "[2500 rows x 4 columns]\n",
      "        osm_id       ags          ort    plz                 landkreis  \\\n",
      "0      1104550   8335001         Aach  78267        Landkreis Konstanz   \n",
      "1      1255910   7235001         Aach  54298  Landkreis Trier-Saarburg   \n",
      "2        62564   5334002       Aachen  52062       Städteregion Aachen   \n",
      "3        62564   5334002       Aachen  52064       Städteregion Aachen   \n",
      "4        62564   5334002       Aachen  52066       Städteregion Aachen   \n",
      "...        ...       ...          ...    ...                       ...   \n",
      "12849  2778122   8415085   Zwiefalten  88529      Landkreis Reutlingen   \n",
      "12850   959161   9276148      Zwiesel  94227           Landkreis Regen   \n",
      "12851   403750   8225113  Zwingenberg  69439     Neckar-Odenwald-Kreis   \n",
      "12852   537054   6431022  Zwingenberg  64673          Kreis Bergstraße   \n",
      "12853   536015  14521710      Zwönitz  08297           Erzgebirgskreis   \n",
      "\n",
      "                bundesland  \n",
      "0        Baden-Württemberg  \n",
      "1          Rheinland-Pfalz  \n",
      "2      Nordrhein-Westfalen  \n",
      "3      Nordrhein-Westfalen  \n",
      "4      Nordrhein-Westfalen  \n",
      "...                    ...  \n",
      "12849    Baden-Württemberg  \n",
      "12850               Bayern  \n",
      "12851    Baden-Württemberg  \n",
      "12852               Hessen  \n",
      "12853              Sachsen  \n",
      "\n",
      "[12854 rows x 6 columns]\n"
     ]
    }
   ],
   "source": [
    "# Kundenanalyse Stuffe 2\n",
    "# Einfache Verknüpfung\n",
    "# 4 **Lade beide CSV-Dateien ein.**  \n",
    "\n",
    "import pandas as pd\n",
    "df_Kunden = pd.read_csv(\"../csv/Kunden.csv\", dtype={\"PLZ\" : str})\n",
    "df_Zuordnung = pd.read_csv(\"../csv/zuordnung_plz_ort.csv\", dtype={\"plz\" :str})\n",
    "\n",
    "print(df_Kunden)\n",
    "print(df_Zuordnung)"
   ]
  },
  {
   "cell_type": "code",
   "execution_count": 6,
   "id": "5284b7b2-8ef1-43a2-b7d2-fd6f4c46000d",
   "metadata": {},
   "outputs": [
    {
     "name": "stdout",
     "output_type": "stream",
     "text": [
      "         Vorname   Nachname    PLZ                   Ort     osm_id  \\\n",
      "0           Anna     Müller  29599                 Weste  1460255.0   \n",
      "1           Anna    Schmidt  89358             Kammeltal   964148.0   \n",
      "2           Anna  Schneider  19417                 Bibow  1444874.0   \n",
      "3           Anna  Schneider  19417                 Bibow  1444888.0   \n",
      "4           Anna  Schneider  19417                 Bibow  1444914.0   \n",
      "...          ...        ...    ...                   ...        ...   \n",
      "10017  Zacharias     Möller  73312             Deggingen  2772181.0   \n",
      "10018  Zacharias     Möller  73312             Deggingen  2770605.0   \n",
      "10019  Zacharias       Paul  65343     Eltville am Rhein   408592.0   \n",
      "10020  Zacharias       Horn  98587  Steinbach-Hallenberg  2849661.0   \n",
      "10021  Zacharias       Horn  98587  Steinbach-Hallenberg  2818530.0   \n",
      "\n",
      "              ags                       ort    plz  \\\n",
      "0       3360026.0                     Weste  29599   \n",
      "1       9774145.0                 Kammeltal  89358   \n",
      "2      13074006.0                     Bibow  19417   \n",
      "3      13074036.0                 Jesendorf  19417   \n",
      "4      13074082.0                 Ventschow  19417   \n",
      "...           ...                       ...    ...   \n",
      "10017   8117014.0                 Deggingen  73312   \n",
      "10018   8117024.0  Geislingen an der Steige  73312   \n",
      "10019   6439003.0         Eltville am Rhein  65343   \n",
      "10020  16066063.0              Schmalkalden  98587   \n",
      "10021  16066069.0      Steinbach-Hallenberg  98587   \n",
      "\n",
      "                              landkreis              bundesland  \n",
      "0                      Landkreis Uelzen           Niedersachsen  \n",
      "1                    Landkreis Günzburg                  Bayern  \n",
      "2         Landkreis Nordwestmecklenburg  Mecklenburg-Vorpommern  \n",
      "3         Landkreis Nordwestmecklenburg  Mecklenburg-Vorpommern  \n",
      "4         Landkreis Nordwestmecklenburg  Mecklenburg-Vorpommern  \n",
      "...                                 ...                     ...  \n",
      "10017               Landkreis Göppingen       Baden-Württemberg  \n",
      "10018               Landkreis Göppingen       Baden-Württemberg  \n",
      "10019             Rheingau-Taunus-Kreis                  Hessen  \n",
      "10020  Landkreis Schmalkalden-Meiningen               Thüringen  \n",
      "10021  Landkreis Schmalkalden-Meiningen               Thüringen  \n",
      "\n",
      "[10022 rows x 10 columns]\n"
     ]
    }
   ],
   "source": [
    "# 5. **Führe beide Tabellen über `PLZ` zusammen.**  \n",
    "# merge\n",
    "\n",
    "# merged =pd.merge(\n",
    "#    df_Kunden,\n",
    "#    df_Zuordnung,\n",
    "#    left_on=\"PLZ\",\n",
    "#    right_on=\"plz\",\n",
    "#    how=\"left\"\n",
    "# )\n",
    "# print(merged)\n"
   ]
  },
  {
   "cell_type": "code",
   "execution_count": 7,
   "id": "b680f195-46b2-45d9-b9b5-180a72f121a5",
   "metadata": {},
   "outputs": [
    {
     "name": "stdout",
     "output_type": "stream",
     "text": [
      "         Vorname   Nachname              bundesland\n",
      "0           Anna     Müller           Niedersachsen\n",
      "1           Anna    Schmidt                  Bayern\n",
      "2           Anna  Schneider  Mecklenburg-Vorpommern\n",
      "3           Anna  Schneider  Mecklenburg-Vorpommern\n",
      "4           Anna  Schneider  Mecklenburg-Vorpommern\n",
      "...          ...        ...                     ...\n",
      "10017  Zacharias     Möller       Baden-Württemberg\n",
      "10018  Zacharias     Möller       Baden-Württemberg\n",
      "10019  Zacharias       Paul                  Hessen\n",
      "10020  Zacharias       Horn               Thüringen\n",
      "10021  Zacharias       Horn               Thüringen\n",
      "\n",
      "[10022 rows x 3 columns]\n"
     ]
    }
   ],
   "source": [
    "# 6. **Zeige zu jedem Kunden das zugehörige Bundesland an.**  \n",
    "# print(merged[[\"Vorname\", \"Nachname\", \"bundesland\"]])"
   ]
  },
  {
   "cell_type": "code",
   "execution_count": 8,
   "id": "c58f130f-d861-4dcf-aa53-c24fa6aff059",
   "metadata": {},
   "outputs": [],
   "source": [
    "# Duplikate in der merge also 5 noch mal"
   ]
  },
  {
   "cell_type": "code",
   "execution_count": 12,
   "id": "0440f500-88d6-4f6c-9196-12408e231966",
   "metadata": {},
   "outputs": [
    {
     "name": "stdout",
     "output_type": "stream",
     "text": [
      "2500\n",
      "2500\n"
     ]
    }
   ],
   "source": [
    "merged = pd.merge(\n",
    "    df_Kunden,\n",
    "    df_Zuordnung.drop_duplicates(subset=\"plz\"),\n",
    "    how=\"left\",\n",
    "    left_on=\"PLZ\",\n",
    "    right_on=\"plz\"\n",
    ")\n",
    "print(len(df_Kunden))\n",
    "print(len(merged))"
   ]
  },
  {
   "cell_type": "code",
   "execution_count": 13,
   "id": "4c072cbf-3868-4df8-ad2f-ed7d6ce57f71",
   "metadata": {},
   "outputs": [
    {
     "name": "stdout",
     "output_type": "stream",
     "text": [
      "        Vorname   Nachname              bundesland\n",
      "0          Anna     Müller           Niedersachsen\n",
      "1          Anna    Schmidt                  Bayern\n",
      "2          Anna  Schneider  Mecklenburg-Vorpommern\n",
      "3          Anna    Fischer         Rheinland-Pfalz\n",
      "4          Anna      Weber       Baden-Württemberg\n",
      "...         ...        ...                     ...\n",
      "2495  Zacharias      Linke         Rheinland-Pfalz\n",
      "2496  Zacharias      Fuchs      Schleswig-Holstein\n",
      "2497  Zacharias     Möller       Baden-Württemberg\n",
      "2498  Zacharias       Paul                  Hessen\n",
      "2499  Zacharias       Horn               Thüringen\n",
      "\n",
      "[2500 rows x 3 columns]\n"
     ]
    }
   ],
   "source": [
    "# 6 nochmal \n",
    "print(merged[[\"Vorname\", \"Nachname\", \"bundesland\"]])"
   ]
  },
  {
   "cell_type": "code",
   "execution_count": 20,
   "id": "a165c308-a3ba-4a87-9834-51b347976263",
   "metadata": {},
   "outputs": [],
   "source": [
    "# 7. **Zähle Kunden pro Bundesland.**\n",
    "# 1. und speichere das Ergebnis im excel Format ab\n",
    "kunden_bundesland = merged.groupby('bundesland').size().reset_index(name='Anzahl_Kunden')\n",
    "kunden_bundesland.to_excel(\"./csv/kunden_pro_bundesland.xlsx\", index =False)\n",
    "kunden_bundesland.to_csv(\"./csv/kunden_pro_bundesland.csv\", index = False)\n"
   ]
  },
  {
   "cell_type": "code",
   "execution_count": null,
   "id": "7a106f92-15da-4de4-9db0-5d0a6a5d0623",
   "metadata": {},
   "outputs": [],
   "source": []
  }
 ],
 "metadata": {
  "kernelspec": {
   "display_name": "Python 3 (ipykernel)",
   "language": "python",
   "name": "python3"
  },
  "language_info": {
   "codemirror_mode": {
    "name": "ipython",
    "version": 3
   },
   "file_extension": ".py",
   "mimetype": "text/x-python",
   "name": "python",
   "nbconvert_exporter": "python",
   "pygments_lexer": "ipython3",
   "version": "3.12.7"
  }
 },
 "nbformat": 4,
 "nbformat_minor": 5
}
