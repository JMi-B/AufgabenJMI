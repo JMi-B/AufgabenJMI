{
 "cells": [
  {
   "cell_type": "code",
   "execution_count": 2,
   "id": "09f7662a-99fd-4b18-806d-0d6c5edf2054",
   "metadata": {},
   "outputs": [],
   "source": [
    "# Stufe 3 Analyse und Methoden\n",
    "# Series erstellen\n",
    "\n",
    "import pandas as pd\n",
    "#s = [\"rot\", \"blau\", \"rot\", \"grün\", \"blau\", \"blau\"]\n",
    "\n",
    "#Farben = pd.Series(s)\n",
    "#print(Farben)\n",
    "\n"
   ]
  },
  {
   "cell_type": "code",
   "execution_count": 3,
   "id": "e1aa10fa-cb1b-47e7-ac39-ea586f5f11f6",
   "metadata": {},
   "outputs": [
    {
     "name": "stdout",
     "output_type": "stream",
     "text": [
      "0     rot\n",
      "1    blau\n",
      "2     rot\n",
      "3    grün\n",
      "4    blau\n",
      "5    blau\n",
      "dtype: object\n"
     ]
    }
   ],
   "source": [
    "# in einer Zeile\n",
    "s = pd.Series([\"rot\", \"blau\", \"rot\", \"grün\", \"blau\", \"blau\"])\n",
    "print(s)\n"
   ]
  },
  {
   "cell_type": "code",
   "execution_count": 4,
   "id": "b8d113ef-a855-46c6-8e51-9ffd64d1e78e",
   "metadata": {},
   "outputs": [
    {
     "data": {
      "text/plain": [
       "blau    3\n",
       "rot     2\n",
       "grün    1\n",
       "Name: count, dtype: int64"
      ]
     },
     "execution_count": 4,
     "metadata": {},
     "output_type": "execute_result"
    }
   ],
   "source": [
    "# häufigkeit der werte\n",
    "s.value_counts()"
   ]
  },
  {
   "cell_type": "code",
   "execution_count": 4,
   "id": "36a35db5-5f8a-4f61-8866-ad5a2f2c6a1d",
   "metadata": {},
   "outputs": [
    {
     "data": {
      "text/plain": [
       "array(['rot', 'blau', 'grün'], dtype=object)"
      ]
     },
     "execution_count": 4,
     "metadata": {},
     "output_type": "execute_result"
    }
   ],
   "source": [
    "# SChritt 12 Eindeutige WErte\n",
    "s.unique()\n"
   ]
  },
  {
   "cell_type": "code",
   "execution_count": 5,
   "id": "daec4b01-b367-42ad-adcb-d984b760ab3b",
   "metadata": {},
   "outputs": [],
   "source": [
    "# Schrit 13 Index neu\n",
    "s['neu'] = \"lila\""
   ]
  },
  {
   "cell_type": "code",
   "execution_count": 6,
   "id": "72ea587f-761e-424f-859d-0072f6b499b7",
   "metadata": {},
   "outputs": [
    {
     "name": "stdout",
     "output_type": "stream",
     "text": [
      "0       rot\n",
      "1      blau\n",
      "2       rot\n",
      "3      grün\n",
      "4      blau\n",
      "5      blau\n",
      "neu    lila\n",
      "dtype: object\n"
     ]
    }
   ],
   "source": [
    "print(s)\n"
   ]
  },
  {
   "cell_type": "code",
   "execution_count": 8,
   "id": "3f67c810-eb70-4057-9a00-0b1daa752cee",
   "metadata": {},
   "outputs": [
    {
     "name": "stdout",
     "output_type": "stream",
     "text": [
      "0       rot\n",
      "1      cyan\n",
      "2       rot\n",
      "3      grün\n",
      "4      cyan\n",
      "5      cyan\n",
      "neu    lila\n",
      "dtype: object\n"
     ]
    }
   ],
   "source": [
    "#Schrit 14. Ersetzen\n",
    "s = s.replace ('blau','cyan')\n",
    "print(s)\n"
   ]
  },
  {
   "cell_type": "code",
   "execution_count": 12,
   "id": "efbedc3f-791b-4a64-b6bc-3cd3bca2c994",
   "metadata": {},
   "outputs": [
    {
     "name": "stdout",
     "output_type": "stream",
     "text": [
      "1      cyan\n",
      "4      cyan\n",
      "5      cyan\n",
      "3      grün\n",
      "neu    lila\n",
      "0       rot\n",
      "2       rot\n",
      "dtype: object\n"
     ]
    }
   ],
   "source": [
    "#Schritt 15 sortieren\n",
    "s = s.sort_values()\n",
    "print(s)"
   ]
  },
  {
   "cell_type": "code",
   "execution_count": null,
   "id": "81992733-f7f3-4df5-b58b-0a0047632174",
   "metadata": {},
   "outputs": [],
   "source": []
  }
 ],
 "metadata": {
  "kernelspec": {
   "display_name": "Python [conda env:base] *",
   "language": "python",
   "name": "conda-base-py"
  },
  "language_info": {
   "codemirror_mode": {
    "name": "ipython",
    "version": 3
   },
   "file_extension": ".py",
   "mimetype": "text/x-python",
   "name": "python",
   "nbconvert_exporter": "python",
   "pygments_lexer": "ipython3",
   "version": "3.12.7"
  }
 },
 "nbformat": 4,
 "nbformat_minor": 5
}
