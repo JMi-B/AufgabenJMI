{
 "cells": [
  {
   "cell_type": "code",
   "execution_count": 1,
   "id": "72fa2dce-ded4-4469-9248-53de4632e05d",
   "metadata": {},
   "outputs": [
    {
     "name": "stdout",
     "output_type": "stream",
     "text": [
      "   Kundennr     Name  Kundenalter    PLZ    Stadt\n",
      "0      1001   Müller           34  10115   Berlin\n",
      "1      1002  Schmidt           45  04109  Leipzig\n",
      "2      1003    Meier           29  20095  Hamburg\n",
      "3      1004   Schulz           51  80331  München\n"
     ]
    }
   ],
   "source": [
    "# csv zu sql _Aufgene Tag 3 neu.\n",
    "# Die Tabelle kunden.csv ist nicht die Tabelle für die Aufgabe\n",
    "\n",
    "#### Aufgabe 1: CSV-Datei in DataFrame laden\n",
    "#- Erstelle eine CSV-Datei mit Kundendaten (`kunden.csv`)\n",
    "#- Spalten: `Kundennr`, `Name`, `Alter`, `PLZ`, `Stadt`\n",
    "#- Lade die Datei in ein Pandas DataFrame\n",
    "\n",
    "import pandas as pd\n",
    "\n",
    "#Beispiel Daten\n",
    "\n",
    "daten ={\n",
    "    'Kundennr': [1001, 1002, 1003, 1004],\n",
    "    'Name': ['Müller', 'Schmidt', 'Meier', 'Schulz'],\n",
    "    'Kundenalter': [34, 45, 29, 51],\n",
    "    'PLZ': ['10115', '04109', '20095', '80331'],\n",
    "    'Stadt': ['Berlin', 'Leipzig', 'Hamburg', 'München']\n",
    "}\n",
    "\n",
    "# DataFrame erstellen\n",
    "\n",
    "df=pd.DataFrame(daten)\n",
    "\n",
    "# als csv speichern\n",
    "df.to_csv(\"MeineKunden.csv\", index=False)\n",
    "\n",
    "# DF ausgeben\n",
    "\n",
    "df = pd.read_csv(\"MeineKunden.csv\", dtype={'PLZ':str})\n",
    "print(df)"
   ]
  },
  {
   "cell_type": "code",
   "execution_count": null,
   "id": "5d398295-e66b-4f96-afaa-00aebd54bc66",
   "metadata": {},
   "outputs": [],
   "source": []
  }
 ],
 "metadata": {
  "kernelspec": {
   "display_name": "Python [conda env:base] *",
   "language": "python",
   "name": "conda-base-py"
  },
  "language_info": {
   "codemirror_mode": {
    "name": "ipython",
    "version": 3
   },
   "file_extension": ".py",
   "mimetype": "text/x-python",
   "name": "python",
   "nbconvert_exporter": "python",
   "pygments_lexer": "ipython3",
   "version": "3.12.7"
  }
 },
 "nbformat": 4,
 "nbformat_minor": 5
}
